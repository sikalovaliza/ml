{
  "nbformat": 4,
  "nbformat_minor": 0,
  "metadata": {
    "colab": {
      "provenance": [],
      "include_colab_link": true
    },
    "kernelspec": {
      "name": "python3",
      "display_name": "Python 3"
    },
    "language_info": {
      "name": "python"
    }
  },
  "cells": [
    {
      "cell_type": "markdown",
      "metadata": {
        "id": "view-in-github",
        "colab_type": "text"
      },
      "source": [
        "<a href=\"https://colab.research.google.com/github/sikalovaliza/ml/blob/main/LogReg_task.ipynb\" target=\"_parent\"><img src=\"https://colab.research.google.com/assets/colab-badge.svg\" alt=\"Open In Colab\"/></a>"
      ]
    },
    {
      "cell_type": "markdown",
      "source": [
        "# Логистическая регрессия"
      ],
      "metadata": {
        "id": "peyKH6cGW0lN"
      }
    },
    {
      "cell_type": "markdown",
      "source": [
        "Обучим логистическую регрессию для предсказания того, откликнется клиент  \n",
        "на рекламное предложение (target = 1) или нет (target = 0)."
      ],
      "metadata": {
        "id": "Q7ytv2GMjpGZ"
      }
    },
    {
      "cell_type": "markdown",
      "source": [
        "## Подлючение библиотек, загрузка и обзор данных"
      ],
      "metadata": {
        "id": "x3mt2yCHYO0-"
      }
    },
    {
      "cell_type": "code",
      "source": [
        "import matplotlib.pyplot as plt\n",
        "import numpy as np\n",
        "import pandas as pd\n",
        "\n",
        "import warnings\n",
        "warnings.filterwarnings(\"ignore\")"
      ],
      "metadata": {
        "id": "aPDB2wP8jndz"
      },
      "execution_count": 2,
      "outputs": []
    },
    {
      "cell_type": "code",
      "source": [
        "data = pd.read_csv('https://raw.githubusercontent.com/evgpat/edu_stepik_practical_ml/main/datasets/clients_data.csv')"
      ],
      "metadata": {
        "id": "7Zw7RmtAjn8O"
      },
      "execution_count": 3,
      "outputs": []
    },
    {
      "cell_type": "code",
      "source": [
        "data.head()"
      ],
      "metadata": {
        "id": "3QbRGWqJjxOv",
        "outputId": "8cb06476-8834-4a8d-80e5-1ffd8f697fb3",
        "colab": {
          "base_uri": "https://localhost:8080/",
          "height": 224
        }
      },
      "execution_count": 4,
      "outputs": [
        {
          "output_type": "execute_result",
          "data": {
            "text/plain": [
              "   AGE  SOCSTATUS_WORK_FL  SOCSTATUS_PENS_FL  GENDER  CHILD_TOTAL  DEPENDANTS  \\\n",
              "0   49                  1                  0       1            2           1   \n",
              "1   32                  1                  0       1            3           3   \n",
              "2   52                  1                  0       1            4           0   \n",
              "3   39                  1                  0       1            1           1   \n",
              "4   30                  1                  0       0            0           0   \n",
              "\n",
              "   PERSONAL_INCOME  LOAN_NUM_TOTAL  LOAN_NUM_CLOSED  LOAN_DLQ_NUM  TARGET  \n",
              "0           5000.0               1                1             2       0  \n",
              "1          12000.0               1                1             1       0  \n",
              "2           9000.0               2                1             0       0  \n",
              "3          25000.0               1                1             3       0  \n",
              "4          12000.0               2                1             2       0  "
            ],
            "text/html": [
              "\n",
              "  <div id=\"df-c755332d-3304-4c85-847d-a90d032cb9c2\" class=\"colab-df-container\">\n",
              "    <div>\n",
              "<style scoped>\n",
              "    .dataframe tbody tr th:only-of-type {\n",
              "        vertical-align: middle;\n",
              "    }\n",
              "\n",
              "    .dataframe tbody tr th {\n",
              "        vertical-align: top;\n",
              "    }\n",
              "\n",
              "    .dataframe thead th {\n",
              "        text-align: right;\n",
              "    }\n",
              "</style>\n",
              "<table border=\"1\" class=\"dataframe\">\n",
              "  <thead>\n",
              "    <tr style=\"text-align: right;\">\n",
              "      <th></th>\n",
              "      <th>AGE</th>\n",
              "      <th>SOCSTATUS_WORK_FL</th>\n",
              "      <th>SOCSTATUS_PENS_FL</th>\n",
              "      <th>GENDER</th>\n",
              "      <th>CHILD_TOTAL</th>\n",
              "      <th>DEPENDANTS</th>\n",
              "      <th>PERSONAL_INCOME</th>\n",
              "      <th>LOAN_NUM_TOTAL</th>\n",
              "      <th>LOAN_NUM_CLOSED</th>\n",
              "      <th>LOAN_DLQ_NUM</th>\n",
              "      <th>TARGET</th>\n",
              "    </tr>\n",
              "  </thead>\n",
              "  <tbody>\n",
              "    <tr>\n",
              "      <th>0</th>\n",
              "      <td>49</td>\n",
              "      <td>1</td>\n",
              "      <td>0</td>\n",
              "      <td>1</td>\n",
              "      <td>2</td>\n",
              "      <td>1</td>\n",
              "      <td>5000.0</td>\n",
              "      <td>1</td>\n",
              "      <td>1</td>\n",
              "      <td>2</td>\n",
              "      <td>0</td>\n",
              "    </tr>\n",
              "    <tr>\n",
              "      <th>1</th>\n",
              "      <td>32</td>\n",
              "      <td>1</td>\n",
              "      <td>0</td>\n",
              "      <td>1</td>\n",
              "      <td>3</td>\n",
              "      <td>3</td>\n",
              "      <td>12000.0</td>\n",
              "      <td>1</td>\n",
              "      <td>1</td>\n",
              "      <td>1</td>\n",
              "      <td>0</td>\n",
              "    </tr>\n",
              "    <tr>\n",
              "      <th>2</th>\n",
              "      <td>52</td>\n",
              "      <td>1</td>\n",
              "      <td>0</td>\n",
              "      <td>1</td>\n",
              "      <td>4</td>\n",
              "      <td>0</td>\n",
              "      <td>9000.0</td>\n",
              "      <td>2</td>\n",
              "      <td>1</td>\n",
              "      <td>0</td>\n",
              "      <td>0</td>\n",
              "    </tr>\n",
              "    <tr>\n",
              "      <th>3</th>\n",
              "      <td>39</td>\n",
              "      <td>1</td>\n",
              "      <td>0</td>\n",
              "      <td>1</td>\n",
              "      <td>1</td>\n",
              "      <td>1</td>\n",
              "      <td>25000.0</td>\n",
              "      <td>1</td>\n",
              "      <td>1</td>\n",
              "      <td>3</td>\n",
              "      <td>0</td>\n",
              "    </tr>\n",
              "    <tr>\n",
              "      <th>4</th>\n",
              "      <td>30</td>\n",
              "      <td>1</td>\n",
              "      <td>0</td>\n",
              "      <td>0</td>\n",
              "      <td>0</td>\n",
              "      <td>0</td>\n",
              "      <td>12000.0</td>\n",
              "      <td>2</td>\n",
              "      <td>1</td>\n",
              "      <td>2</td>\n",
              "      <td>0</td>\n",
              "    </tr>\n",
              "  </tbody>\n",
              "</table>\n",
              "</div>\n",
              "    <div class=\"colab-df-buttons\">\n",
              "\n",
              "  <div class=\"colab-df-container\">\n",
              "    <button class=\"colab-df-convert\" onclick=\"convertToInteractive('df-c755332d-3304-4c85-847d-a90d032cb9c2')\"\n",
              "            title=\"Convert this dataframe to an interactive table.\"\n",
              "            style=\"display:none;\">\n",
              "\n",
              "  <svg xmlns=\"http://www.w3.org/2000/svg\" height=\"24px\" viewBox=\"0 -960 960 960\">\n",
              "    <path d=\"M120-120v-720h720v720H120Zm60-500h600v-160H180v160Zm220 220h160v-160H400v160Zm0 220h160v-160H400v160ZM180-400h160v-160H180v160Zm440 0h160v-160H620v160ZM180-180h160v-160H180v160Zm440 0h160v-160H620v160Z\"/>\n",
              "  </svg>\n",
              "    </button>\n",
              "\n",
              "  <style>\n",
              "    .colab-df-container {\n",
              "      display:flex;\n",
              "      gap: 12px;\n",
              "    }\n",
              "\n",
              "    .colab-df-convert {\n",
              "      background-color: #E8F0FE;\n",
              "      border: none;\n",
              "      border-radius: 50%;\n",
              "      cursor: pointer;\n",
              "      display: none;\n",
              "      fill: #1967D2;\n",
              "      height: 32px;\n",
              "      padding: 0 0 0 0;\n",
              "      width: 32px;\n",
              "    }\n",
              "\n",
              "    .colab-df-convert:hover {\n",
              "      background-color: #E2EBFA;\n",
              "      box-shadow: 0px 1px 2px rgba(60, 64, 67, 0.3), 0px 1px 3px 1px rgba(60, 64, 67, 0.15);\n",
              "      fill: #174EA6;\n",
              "    }\n",
              "\n",
              "    .colab-df-buttons div {\n",
              "      margin-bottom: 4px;\n",
              "    }\n",
              "\n",
              "    [theme=dark] .colab-df-convert {\n",
              "      background-color: #3B4455;\n",
              "      fill: #D2E3FC;\n",
              "    }\n",
              "\n",
              "    [theme=dark] .colab-df-convert:hover {\n",
              "      background-color: #434B5C;\n",
              "      box-shadow: 0px 1px 3px 1px rgba(0, 0, 0, 0.15);\n",
              "      filter: drop-shadow(0px 1px 2px rgba(0, 0, 0, 0.3));\n",
              "      fill: #FFFFFF;\n",
              "    }\n",
              "  </style>\n",
              "\n",
              "    <script>\n",
              "      const buttonEl =\n",
              "        document.querySelector('#df-c755332d-3304-4c85-847d-a90d032cb9c2 button.colab-df-convert');\n",
              "      buttonEl.style.display =\n",
              "        google.colab.kernel.accessAllowed ? 'block' : 'none';\n",
              "\n",
              "      async function convertToInteractive(key) {\n",
              "        const element = document.querySelector('#df-c755332d-3304-4c85-847d-a90d032cb9c2');\n",
              "        const dataTable =\n",
              "          await google.colab.kernel.invokeFunction('convertToInteractive',\n",
              "                                                    [key], {});\n",
              "        if (!dataTable) return;\n",
              "\n",
              "        const docLinkHtml = 'Like what you see? Visit the ' +\n",
              "          '<a target=\"_blank\" href=https://colab.research.google.com/notebooks/data_table.ipynb>data table notebook</a>'\n",
              "          + ' to learn more about interactive tables.';\n",
              "        element.innerHTML = '';\n",
              "        dataTable['output_type'] = 'display_data';\n",
              "        await google.colab.output.renderOutput(dataTable, element);\n",
              "        const docLink = document.createElement('div');\n",
              "        docLink.innerHTML = docLinkHtml;\n",
              "        element.appendChild(docLink);\n",
              "      }\n",
              "    </script>\n",
              "  </div>\n",
              "\n",
              "\n",
              "<div id=\"df-0923b520-7cd0-4d4c-a087-8918efb3d5b0\">\n",
              "  <button class=\"colab-df-quickchart\" onclick=\"quickchart('df-0923b520-7cd0-4d4c-a087-8918efb3d5b0')\"\n",
              "            title=\"Suggest charts\"\n",
              "            style=\"display:none;\">\n",
              "\n",
              "<svg xmlns=\"http://www.w3.org/2000/svg\" height=\"24px\"viewBox=\"0 0 24 24\"\n",
              "     width=\"24px\">\n",
              "    <g>\n",
              "        <path d=\"M19 3H5c-1.1 0-2 .9-2 2v14c0 1.1.9 2 2 2h14c1.1 0 2-.9 2-2V5c0-1.1-.9-2-2-2zM9 17H7v-7h2v7zm4 0h-2V7h2v10zm4 0h-2v-4h2v4z\"/>\n",
              "    </g>\n",
              "</svg>\n",
              "  </button>\n",
              "\n",
              "<style>\n",
              "  .colab-df-quickchart {\n",
              "      --bg-color: #E8F0FE;\n",
              "      --fill-color: #1967D2;\n",
              "      --hover-bg-color: #E2EBFA;\n",
              "      --hover-fill-color: #174EA6;\n",
              "      --disabled-fill-color: #AAA;\n",
              "      --disabled-bg-color: #DDD;\n",
              "  }\n",
              "\n",
              "  [theme=dark] .colab-df-quickchart {\n",
              "      --bg-color: #3B4455;\n",
              "      --fill-color: #D2E3FC;\n",
              "      --hover-bg-color: #434B5C;\n",
              "      --hover-fill-color: #FFFFFF;\n",
              "      --disabled-bg-color: #3B4455;\n",
              "      --disabled-fill-color: #666;\n",
              "  }\n",
              "\n",
              "  .colab-df-quickchart {\n",
              "    background-color: var(--bg-color);\n",
              "    border: none;\n",
              "    border-radius: 50%;\n",
              "    cursor: pointer;\n",
              "    display: none;\n",
              "    fill: var(--fill-color);\n",
              "    height: 32px;\n",
              "    padding: 0;\n",
              "    width: 32px;\n",
              "  }\n",
              "\n",
              "  .colab-df-quickchart:hover {\n",
              "    background-color: var(--hover-bg-color);\n",
              "    box-shadow: 0 1px 2px rgba(60, 64, 67, 0.3), 0 1px 3px 1px rgba(60, 64, 67, 0.15);\n",
              "    fill: var(--button-hover-fill-color);\n",
              "  }\n",
              "\n",
              "  .colab-df-quickchart-complete:disabled,\n",
              "  .colab-df-quickchart-complete:disabled:hover {\n",
              "    background-color: var(--disabled-bg-color);\n",
              "    fill: var(--disabled-fill-color);\n",
              "    box-shadow: none;\n",
              "  }\n",
              "\n",
              "  .colab-df-spinner {\n",
              "    border: 2px solid var(--fill-color);\n",
              "    border-color: transparent;\n",
              "    border-bottom-color: var(--fill-color);\n",
              "    animation:\n",
              "      spin 1s steps(1) infinite;\n",
              "  }\n",
              "\n",
              "  @keyframes spin {\n",
              "    0% {\n",
              "      border-color: transparent;\n",
              "      border-bottom-color: var(--fill-color);\n",
              "      border-left-color: var(--fill-color);\n",
              "    }\n",
              "    20% {\n",
              "      border-color: transparent;\n",
              "      border-left-color: var(--fill-color);\n",
              "      border-top-color: var(--fill-color);\n",
              "    }\n",
              "    30% {\n",
              "      border-color: transparent;\n",
              "      border-left-color: var(--fill-color);\n",
              "      border-top-color: var(--fill-color);\n",
              "      border-right-color: var(--fill-color);\n",
              "    }\n",
              "    40% {\n",
              "      border-color: transparent;\n",
              "      border-right-color: var(--fill-color);\n",
              "      border-top-color: var(--fill-color);\n",
              "    }\n",
              "    60% {\n",
              "      border-color: transparent;\n",
              "      border-right-color: var(--fill-color);\n",
              "    }\n",
              "    80% {\n",
              "      border-color: transparent;\n",
              "      border-right-color: var(--fill-color);\n",
              "      border-bottom-color: var(--fill-color);\n",
              "    }\n",
              "    90% {\n",
              "      border-color: transparent;\n",
              "      border-bottom-color: var(--fill-color);\n",
              "    }\n",
              "  }\n",
              "</style>\n",
              "\n",
              "  <script>\n",
              "    async function quickchart(key) {\n",
              "      const quickchartButtonEl =\n",
              "        document.querySelector('#' + key + ' button');\n",
              "      quickchartButtonEl.disabled = true;  // To prevent multiple clicks.\n",
              "      quickchartButtonEl.classList.add('colab-df-spinner');\n",
              "      try {\n",
              "        const charts = await google.colab.kernel.invokeFunction(\n",
              "            'suggestCharts', [key], {});\n",
              "      } catch (error) {\n",
              "        console.error('Error during call to suggestCharts:', error);\n",
              "      }\n",
              "      quickchartButtonEl.classList.remove('colab-df-spinner');\n",
              "      quickchartButtonEl.classList.add('colab-df-quickchart-complete');\n",
              "    }\n",
              "    (() => {\n",
              "      let quickchartButtonEl =\n",
              "        document.querySelector('#df-0923b520-7cd0-4d4c-a087-8918efb3d5b0 button');\n",
              "      quickchartButtonEl.style.display =\n",
              "        google.colab.kernel.accessAllowed ? 'block' : 'none';\n",
              "    })();\n",
              "  </script>\n",
              "</div>\n",
              "    </div>\n",
              "  </div>\n"
            ],
            "application/vnd.google.colaboratory.intrinsic+json": {
              "type": "dataframe",
              "variable_name": "data",
              "summary": "{\n  \"name\": \"data\",\n  \"rows\": 15223,\n  \"fields\": [\n    {\n      \"column\": \"AGE\",\n      \"properties\": {\n        \"dtype\": \"number\",\n        \"std\": 11,\n        \"min\": 21,\n        \"max\": 67,\n        \"num_unique_values\": 47,\n        \"samples\": [\n          59,\n          46,\n          44\n        ],\n        \"semantic_type\": \"\",\n        \"description\": \"\"\n      }\n    },\n    {\n      \"column\": \"SOCSTATUS_WORK_FL\",\n      \"properties\": {\n        \"dtype\": \"number\",\n        \"std\": 0,\n        \"min\": 0,\n        \"max\": 1,\n        \"num_unique_values\": 2,\n        \"samples\": [\n          0,\n          1\n        ],\n        \"semantic_type\": \"\",\n        \"description\": \"\"\n      }\n    },\n    {\n      \"column\": \"SOCSTATUS_PENS_FL\",\n      \"properties\": {\n        \"dtype\": \"number\",\n        \"std\": 0,\n        \"min\": 0,\n        \"max\": 1,\n        \"num_unique_values\": 2,\n        \"samples\": [\n          1,\n          0\n        ],\n        \"semantic_type\": \"\",\n        \"description\": \"\"\n      }\n    },\n    {\n      \"column\": \"GENDER\",\n      \"properties\": {\n        \"dtype\": \"number\",\n        \"std\": 0,\n        \"min\": 0,\n        \"max\": 1,\n        \"num_unique_values\": 2,\n        \"samples\": [\n          0,\n          1\n        ],\n        \"semantic_type\": \"\",\n        \"description\": \"\"\n      }\n    },\n    {\n      \"column\": \"CHILD_TOTAL\",\n      \"properties\": {\n        \"dtype\": \"number\",\n        \"std\": 0,\n        \"min\": 0,\n        \"max\": 10,\n        \"num_unique_values\": 10,\n        \"samples\": [\n          8,\n          3\n        ],\n        \"semantic_type\": \"\",\n        \"description\": \"\"\n      }\n    },\n    {\n      \"column\": \"DEPENDANTS\",\n      \"properties\": {\n        \"dtype\": \"number\",\n        \"std\": 0,\n        \"min\": 0,\n        \"max\": 7,\n        \"num_unique_values\": 8,\n        \"samples\": [\n          3,\n          5\n        ],\n        \"semantic_type\": \"\",\n        \"description\": \"\"\n      }\n    },\n    {\n      \"column\": \"PERSONAL_INCOME\",\n      \"properties\": {\n        \"dtype\": \"number\",\n        \"std\": 9015.467616528844,\n        \"min\": 24.0,\n        \"max\": 250000.0,\n        \"num_unique_values\": 274,\n        \"samples\": [\n          11700.0,\n          16800.0\n        ],\n        \"semantic_type\": \"\",\n        \"description\": \"\"\n      }\n    },\n    {\n      \"column\": \"LOAN_NUM_TOTAL\",\n      \"properties\": {\n        \"dtype\": \"number\",\n        \"std\": 0,\n        \"min\": 1,\n        \"max\": 11,\n        \"num_unique_values\": 9,\n        \"samples\": [\n          7,\n          2\n        ],\n        \"semantic_type\": \"\",\n        \"description\": \"\"\n      }\n    },\n    {\n      \"column\": \"LOAN_NUM_CLOSED\",\n      \"properties\": {\n        \"dtype\": \"number\",\n        \"std\": 0,\n        \"min\": 0,\n        \"max\": 11,\n        \"num_unique_values\": 10,\n        \"samples\": [\n          7,\n          2\n        ],\n        \"semantic_type\": \"\",\n        \"description\": \"\"\n      }\n    },\n    {\n      \"column\": \"LOAN_DLQ_NUM\",\n      \"properties\": {\n        \"dtype\": \"number\",\n        \"std\": 0,\n        \"min\": 0,\n        \"max\": 13,\n        \"num_unique_values\": 14,\n        \"samples\": [\n          13,\n          10\n        ],\n        \"semantic_type\": \"\",\n        \"description\": \"\"\n      }\n    },\n    {\n      \"column\": \"TARGET\",\n      \"properties\": {\n        \"dtype\": \"number\",\n        \"std\": 0,\n        \"min\": 0,\n        \"max\": 1,\n        \"num_unique_values\": 2,\n        \"samples\": [\n          1,\n          0\n        ],\n        \"semantic_type\": \"\",\n        \"description\": \"\"\n      }\n    }\n  ]\n}"
            }
          },
          "metadata": {},
          "execution_count": 4
        }
      ]
    },
    {
      "cell_type": "code",
      "source": [
        "from sklearn.model_selection import train_test_split\n",
        "\n",
        "X = data.drop('TARGET', axis=1)\n",
        "y = data['TARGET']\n",
        "\n",
        "Xtrain, Xtest, ytrain, ytest = train_test_split(X, y, train_size=0.7, random_state=123)"
      ],
      "metadata": {
        "id": "bkG1LjB0s81d"
      },
      "execution_count": 5,
      "outputs": []
    },
    {
      "cell_type": "markdown",
      "source": [
        "## Практика"
      ],
      "metadata": {
        "id": "C78zRrXtYLbZ"
      }
    },
    {
      "cell_type": "markdown",
      "source": [
        "**Задание**  \n",
        "Выведите на экран количество объектов каждого класса. Сколько процентов объектов относятся к положительному классу?  \n",
        "Ответ округлите до целого числа (например, если доля объектов положительного класса равна 0.412, в ответ запишите 41,  \n",
        "имея в виду 41 процент)."
      ],
      "metadata": {
        "id": "-4z9iGIAmcNA"
      }
    },
    {
      "cell_type": "code",
      "source": [
        "# ваш код здесь\n",
        "unique, counts = np.unique(ytrain, return_counts=True)\n",
        "class_counts = dict(zip(unique, counts))\n",
        "\n",
        "positive_class_percentage = (class_counts.get(1, 0) / sum(counts)) * 100\n",
        "\n",
        "print(\"Количество объектов каждого класса:\", class_counts)\n",
        "print(f\"Процент положительного класса: {positive_class_percentage:.0f}%\")\n"
      ],
      "metadata": {
        "id": "K2-WIJismssr",
        "outputId": "c49c08f8-2f86-4cdb-e253-0c8bc015024c",
        "colab": {
          "base_uri": "https://localhost:8080/"
        }
      },
      "execution_count": 6,
      "outputs": [
        {
          "output_type": "stream",
          "name": "stdout",
          "text": [
            "Количество объектов каждого класса: {0: 9403, 1: 1253}\n",
            "Процент положительного класса: 12%\n"
          ]
        }
      ]
    },
    {
      "cell_type": "markdown",
      "source": [
        "Обучим логистическую регрессию с параметрами по умолчанию."
      ],
      "metadata": {
        "id": "zGmfshG9rmBn"
      }
    },
    {
      "cell_type": "code",
      "source": [
        "from sklearn.linear_model import LogisticRegression\n",
        "\n",
        "lr = LogisticRegression()"
      ],
      "metadata": {
        "id": "7tOX78zbrPHB"
      },
      "execution_count": 7,
      "outputs": []
    },
    {
      "cell_type": "code",
      "source": [
        "lr.fit(Xtrain, ytrain)\n",
        "\n",
        "prediction = lr.predict(Xtest)"
      ],
      "metadata": {
        "id": "gvNVW51Erzpm"
      },
      "execution_count": 8,
      "outputs": []
    },
    {
      "cell_type": "markdown",
      "source": [
        "Метрику accuracy не стоит использовать при сильном дисбалансе классов. Поэтому посчитайте f1_score для оценки качества модели на тестовых данных.\n",
        "\n",
        "f1_score принимает значения от 0 до 1. Чем ближе к 1, тем лучше модель."
      ],
      "metadata": {
        "id": "R8QvDicCUicz"
      }
    },
    {
      "cell_type": "code",
      "source": [
        "from sklearn.metrics import f1_score\n",
        "\n",
        "# ваш код здесь\n",
        "f1=f1_score(ytest, prediction)\n",
        "print(f1)"
      ],
      "metadata": {
        "id": "gxnxFzSxlfmQ",
        "outputId": "14aaafb2-a344-4182-c831-4580656c6842",
        "colab": {
          "base_uri": "https://localhost:8080/"
        }
      },
      "execution_count": 9,
      "outputs": [
        {
          "output_type": "stream",
          "name": "stdout",
          "text": [
            "0.0\n"
          ]
        }
      ]
    },
    {
      "cell_type": "markdown",
      "source": [
        "**Вопрос**  \n",
        "Чему равен `f1_score`?"
      ],
      "metadata": {
        "id": "czwpRRsHorHu"
      }
    },
    {
      "cell_type": "markdown",
      "source": [
        "Удивительно, да?\n",
        "\n",
        "Давайте разберемся, почему качество такое низкое."
      ],
      "metadata": {
        "id": "FF1I6KbTomdK"
      }
    },
    {
      "cell_type": "markdown",
      "source": [
        "Предскажем вероятности классов с помощью обученной логистической регрессии на тестовых данных."
      ],
      "metadata": {
        "id": "CvWGh7m9sTKM"
      }
    },
    {
      "cell_type": "code",
      "source": [
        "probs_test = lr.predict_proba(Xtest)\n",
        "\n",
        "probs_test[:10]"
      ],
      "metadata": {
        "id": "LNqjcxrwsLzl",
        "outputId": "ff4ce4c1-7e39-4990-cebf-6fb9848425e1",
        "colab": {
          "base_uri": "https://localhost:8080/"
        }
      },
      "execution_count": 10,
      "outputs": [
        {
          "output_type": "execute_result",
          "data": {
            "text/plain": [
              "array([[0.9386009 , 0.0613991 ],\n",
              "       [0.90059273, 0.09940727],\n",
              "       [0.71082843, 0.28917157],\n",
              "       [0.78458556, 0.21541444],\n",
              "       [0.87089461, 0.12910539],\n",
              "       [0.95850917, 0.04149083],\n",
              "       [0.93632116, 0.06367884],\n",
              "       [0.96561665, 0.03438335],\n",
              "       [0.9488919 , 0.0511081 ],\n",
              "       [0.93090985, 0.06909015]])"
            ]
          },
          "metadata": {},
          "execution_count": 10
        }
      ]
    },
    {
      "cell_type": "markdown",
      "source": [
        "По вероятностям видно, что вероятности отнесения к положительному классу очень низкие.\n",
        "\n",
        "Попробуем изменить порог для перевода вероятности в классы."
      ],
      "metadata": {
        "id": "wmASiDk_pPfK"
      }
    },
    {
      "cell_type": "markdown",
      "source": [
        "**Вопрос**  \n",
        "Чему равен `f1_score`, если все объекты с вероятностью не меньшей 0.1, относить к положительному классу?\n",
        "\n",
        "Ответ округлите до сотых."
      ],
      "metadata": {
        "id": "vJYfPb5yp1N6"
      }
    },
    {
      "cell_type": "code",
      "source": [
        "# ваш код здесь\n",
        "threshold = 0.1\n",
        "y_prob=probs_test[:, 1]\n",
        "y_pred=(y_prob >= threshold).astype(int)\n",
        "f1=f1_score(ytest, y_pred)\n",
        "print(f1)"
      ],
      "metadata": {
        "id": "9A-GCeebqAdU",
        "outputId": "fb5f14d3-b934-45be-ff08-2247aa4cf50a",
        "colab": {
          "base_uri": "https://localhost:8080/"
        }
      },
      "execution_count": 11,
      "outputs": [
        {
          "output_type": "stream",
          "name": "stdout",
          "text": [
            "0.25485122897800777\n"
          ]
        }
      ]
    },
    {
      "cell_type": "markdown",
      "source": [
        "У обученной модели можно посмотреть веса (как и в линейной регрессии).  \n",
        "Выведем на экран веса модели (`model.coef_`, `model.intercept_`)."
      ],
      "metadata": {
        "id": "lIKKWKCFVBh1"
      }
    },
    {
      "cell_type": "code",
      "source": [
        "lr.coef_, lr.intercept_"
      ],
      "metadata": {
        "id": "zZ6NmMGIVE_D",
        "outputId": "6991d056-16ce-4981-cb6e-978a0c4b8079",
        "colab": {
          "base_uri": "https://localhost:8080/"
        }
      },
      "execution_count": 20,
      "outputs": [
        {
          "output_type": "execute_result",
          "data": {
            "text/plain": [
              "(array([[-4.61783944e-02, -1.47053630e-01, -8.61148282e-02,\n",
              "         -1.54078110e-01,  1.91466235e-01, -1.41682812e-01,\n",
              "          2.01722727e-05, -6.01033673e-02, -2.31271509e-01,\n",
              "          2.92923914e-01]]),\n",
              " array([-0.24168408]))"
            ]
          },
          "metadata": {},
          "execution_count": 20
        }
      ]
    },
    {
      "cell_type": "markdown",
      "source": [
        "Создайте `pd.DataFrame`, где в первом столбце стоят названия признаков, а во втором - их веса (так удобнее анализировать результат).  \n",
        "Отсортируйте таблицу по убыванию весов.\n",
        "\n",
        "**Вопрос**  \n",
        "Какой признак имеет наибольший положительный вес?"
      ],
      "metadata": {
        "id": "OVnkivI5qOLH"
      }
    },
    {
      "cell_type": "code",
      "source": [
        "# ваш код здесь\n",
        "weights_df = pd.DataFrame({\n",
        "    'Feature': Xtest.columns,\n",
        "    'Weight': lr.coef_[0]\n",
        "})\n",
        "weights_df = weights_df.sort_values(by='Weight', ascending=False)\n",
        "print(weights_df)"
      ],
      "metadata": {
        "id": "0IhVjQWnqUi2",
        "outputId": "83dd2d99-f22a-4718-a79c-e734bff61a18",
        "colab": {
          "base_uri": "https://localhost:8080/"
        }
      },
      "execution_count": 23,
      "outputs": [
        {
          "output_type": "stream",
          "name": "stdout",
          "text": [
            "             Feature    Weight\n",
            "9       LOAN_DLQ_NUM  0.292924\n",
            "4        CHILD_TOTAL  0.191466\n",
            "6    PERSONAL_INCOME  0.000020\n",
            "0                AGE -0.046178\n",
            "7     LOAN_NUM_TOTAL -0.060103\n",
            "2  SOCSTATUS_PENS_FL -0.086115\n",
            "5         DEPENDANTS -0.141683\n",
            "1  SOCSTATUS_WORK_FL -0.147054\n",
            "3             GENDER -0.154078\n",
            "8    LOAN_NUM_CLOSED -0.231272\n"
          ]
        }
      ]
    },
    {
      "cell_type": "markdown",
      "source": [
        "## Бонус"
      ],
      "metadata": {
        "id": "WNWrbhnLYFnZ"
      }
    },
    {
      "cell_type": "markdown",
      "source": [
        "**Задание 1**  \n",
        "Подберите порог для перевода вероятностей в классы, дающий максимальное значение `f1_score`."
      ],
      "metadata": {
        "id": "dFsZU0ya2i70"
      }
    },
    {
      "cell_type": "code",
      "source": [
        "# ваш код здесь\n",
        "thresholds = np.arange(0, 1, 0.01)\n",
        "for threshold in thresholds:\n",
        "  y_prob=probs_test[:, 1]\n",
        "  y_pred=(y_prob >= threshold).astype(int)\n",
        "  f1=f1_score(ytest, y_pred)\n",
        "  print(threshold, f1)"
      ],
      "metadata": {
        "id": "myf1uNxR2vJ6",
        "outputId": "cfdafc45-cf11-4fda-a09b-ab634cf1a09c",
        "colab": {
          "base_uri": "https://localhost:8080/"
        }
      },
      "execution_count": 26,
      "outputs": [
        {
          "output_type": "stream",
          "name": "stdout",
          "text": [
            "0.0 0.21810378462738977\n",
            "0.01 0.21823150497755223\n",
            "0.02 0.21813197571960055\n",
            "0.03 0.2203187250996016\n",
            "0.04 0.22615131578947367\n",
            "0.05 0.23148751357220412\n",
            "0.06 0.2346368715083799\n",
            "0.07 0.2373138096440293\n",
            "0.08 0.24204514549904813\n",
            "0.09 0.25073920756948553\n",
            "0.1 0.25485122897800777\n",
            "0.11 0.26277897768178543\n",
            "0.12 0.25760568945080997\n",
            "0.13 0.2591623036649215\n",
            "0.14 0.25244618395303325\n",
            "0.15 0.2490272373540856\n",
            "0.16 0.24417872876022656\n",
            "0.17 0.23612087139845397\n",
            "0.18 0.21850079744816586\n",
            "0.19 0.20977777777777779\n",
            "0.2 0.1884920634920635\n",
            "0.21 0.16503800217155265\n",
            "0.22 0.12903225806451613\n",
            "0.23 0.11494252873563218\n",
            "0.24 0.09641873278236915\n",
            "0.25 0.07580174927113703\n",
            "0.26 0.05801526717557252\n",
            "0.27 0.03803486529318542\n",
            "0.28 0.025889967637540454\n",
            "0.29 0.0165016501650165\n",
            "0.3 0.01669449081803005\n",
            "0.31 0.016863406408094434\n",
            "0.32 0.013628620102214651\n",
            "0.33 0.006896551724137931\n",
            "0.34 0.0034662045060658577\n",
            "0.35000000000000003 0.0034782608695652175\n",
            "0.36 0.003484320557491289\n",
            "0.37 0.0034904013961605585\n",
            "0.38 0.0034965034965034965\n",
            "0.39 0.0034965034965034965\n",
            "0.4 0.0035087719298245615\n",
            "0.41000000000000003 0.0035087719298245615\n",
            "0.42 0.0035149384885764497\n",
            "0.43 0.0035149384885764497\n",
            "0.44 0.003527336860670194\n",
            "0.45 0.003527336860670194\n",
            "0.46 0.0035335689045936395\n",
            "0.47000000000000003 0.0035335689045936395\n",
            "0.48 0.0\n",
            "0.49 0.0\n",
            "0.5 0.0\n",
            "0.51 0.0\n",
            "0.52 0.0\n",
            "0.53 0.0\n",
            "0.54 0.0\n",
            "0.55 0.0\n",
            "0.56 0.0\n",
            "0.5700000000000001 0.0\n",
            "0.58 0.0\n",
            "0.59 0.0\n",
            "0.6 0.0\n",
            "0.61 0.0\n",
            "0.62 0.0\n",
            "0.63 0.0\n",
            "0.64 0.0\n",
            "0.65 0.0\n",
            "0.66 0.0\n",
            "0.67 0.0\n",
            "0.68 0.0\n",
            "0.6900000000000001 0.0\n",
            "0.7000000000000001 0.0\n",
            "0.71 0.0\n",
            "0.72 0.0\n",
            "0.73 0.0\n",
            "0.74 0.0\n",
            "0.75 0.0\n",
            "0.76 0.0\n",
            "0.77 0.0\n",
            "0.78 0.0\n",
            "0.79 0.0\n",
            "0.8 0.0\n",
            "0.81 0.0\n",
            "0.8200000000000001 0.0\n",
            "0.8300000000000001 0.0\n",
            "0.84 0.0\n",
            "0.85 0.0\n",
            "0.86 0.0\n",
            "0.87 0.0\n",
            "0.88 0.0\n",
            "0.89 0.0\n",
            "0.9 0.0\n",
            "0.91 0.0\n",
            "0.92 0.0\n",
            "0.93 0.0\n",
            "0.9400000000000001 0.0\n",
            "0.9500000000000001 0.0\n",
            "0.96 0.0\n",
            "0.97 0.0\n",
            "0.98 0.0\n",
            "0.99 0.0\n"
          ]
        }
      ]
    },
    {
      "cell_type": "markdown",
      "source": [
        "**Задание 2**  \n",
        "Во вложенном цикле подберите одновременно коэффициент регуляризации `C` у логистической регрессии и порог для перевода вероятностей в классы, дающие максимальное значение `f1_score`.\n",
        "\n",
        "По-хорошему, чтобы не переобучиться, эти величины надо подбирать не по тесту, а по отдельной выборке.\n",
        "\n",
        "Поэтому разобъем данные изначально на три части: `Xtrain`, `Xval`, `Xtest`.\n",
        "\n",
        "*   В цикле при подборе `С` и порога будем обучаться по `Xtrain`, а предсказывать и измерять качество по `Xval`.\n",
        "\n",
        "*   Качество итоговой модели с найденными `C` и порогом измерьте по `Xtest`.\n",
        "\n",
        "Так не переобучимся!\n"
      ],
      "metadata": {
        "id": "rlW4fTH_2xU7"
      }
    },
    {
      "cell_type": "code",
      "source": [
        "Xtrain_new, Xval, ytrain_new, yval = train_test_split(Xtrain, ytrain, train_size=0.7, random_state=123)\n",
        "\n",
        "# ваш код для подбора C и порога здесь"
      ],
      "metadata": {
        "id": "euwCnWE_3Gke"
      },
      "execution_count": null,
      "outputs": []
    },
    {
      "cell_type": "code",
      "source": [
        "model = LogisticRegression(C = ...)\n",
        "\n",
        "model.fit(Xtrain, ytrain) # обучаемся на всех тренировочных данных\n",
        "\n",
        "prediction = model.predict_proba(Xtest)\n",
        "\n",
        "classes = ... # переведите полученные вероятности в классы по найденному порогу"
      ],
      "metadata": {
        "id": "AVvUBwZ64Cbd"
      },
      "execution_count": null,
      "outputs": []
    },
    {
      "cell_type": "code",
      "source": [
        "# вычислите значение f1_score на тестовых данных"
      ],
      "metadata": {
        "id": "iMhzejf94XKp"
      },
      "execution_count": null,
      "outputs": []
    }
  ]
}